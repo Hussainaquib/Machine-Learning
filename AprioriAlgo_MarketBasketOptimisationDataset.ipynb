{
 "cells": [
  {
   "cell_type": "code",
   "execution_count": 2,
   "id": "1efd7532",
   "metadata": {},
   "outputs": [
    {
     "name": "stdout",
     "output_type": "stream",
     "text": [
      "Collecting mlxtend\n",
      "  Downloading mlxtend-0.22.0-py2.py3-none-any.whl (1.4 MB)\n",
      "     ---------------------------------------- 1.4/1.4 MB 241.4 kB/s eta 0:00:00\n",
      "Requirement already satisfied: joblib>=0.13.2 in c:\\users\\91975\\anaconda3\\lib\\site-packages (from mlxtend) (1.1.1)\n",
      "Requirement already satisfied: setuptools in c:\\users\\91975\\anaconda3\\lib\\site-packages (from mlxtend) (65.6.3)\n",
      "Requirement already satisfied: pandas>=0.24.2 in c:\\users\\91975\\anaconda3\\lib\\site-packages (from mlxtend) (1.5.3)\n",
      "Requirement already satisfied: scikit-learn>=1.0.2 in c:\\users\\91975\\anaconda3\\lib\\site-packages (from mlxtend) (1.2.1)\n",
      "Requirement already satisfied: numpy>=1.16.2 in c:\\users\\91975\\anaconda3\\lib\\site-packages (from mlxtend) (1.23.5)\n",
      "Requirement already satisfied: matplotlib>=3.0.0 in c:\\users\\91975\\anaconda3\\lib\\site-packages (from mlxtend) (3.7.0)\n",
      "Requirement already satisfied: scipy>=1.2.1 in c:\\users\\91975\\anaconda3\\lib\\site-packages (from mlxtend) (1.10.0)\n",
      "Requirement already satisfied: kiwisolver>=1.0.1 in c:\\users\\91975\\anaconda3\\lib\\site-packages (from matplotlib>=3.0.0->mlxtend) (1.4.4)\n",
      "Requirement already satisfied: contourpy>=1.0.1 in c:\\users\\91975\\anaconda3\\lib\\site-packages (from matplotlib>=3.0.0->mlxtend) (1.0.5)\n",
      "Requirement already satisfied: pyparsing>=2.3.1 in c:\\users\\91975\\anaconda3\\lib\\site-packages (from matplotlib>=3.0.0->mlxtend) (3.0.9)\n",
      "Requirement already satisfied: fonttools>=4.22.0 in c:\\users\\91975\\anaconda3\\lib\\site-packages (from matplotlib>=3.0.0->mlxtend) (4.25.0)\n",
      "Requirement already satisfied: pillow>=6.2.0 in c:\\users\\91975\\anaconda3\\lib\\site-packages (from matplotlib>=3.0.0->mlxtend) (9.4.0)\n",
      "Requirement already satisfied: packaging>=20.0 in c:\\users\\91975\\anaconda3\\lib\\site-packages (from matplotlib>=3.0.0->mlxtend) (22.0)\n",
      "Requirement already satisfied: python-dateutil>=2.7 in c:\\users\\91975\\anaconda3\\lib\\site-packages (from matplotlib>=3.0.0->mlxtend) (2.8.2)\n",
      "Requirement already satisfied: cycler>=0.10 in c:\\users\\91975\\anaconda3\\lib\\site-packages (from matplotlib>=3.0.0->mlxtend) (0.11.0)\n",
      "Requirement already satisfied: pytz>=2020.1 in c:\\users\\91975\\anaconda3\\lib\\site-packages (from pandas>=0.24.2->mlxtend) (2022.7)\n",
      "Requirement already satisfied: threadpoolctl>=2.0.0 in c:\\users\\91975\\anaconda3\\lib\\site-packages (from scikit-learn>=1.0.2->mlxtend) (2.2.0)\n",
      "Requirement already satisfied: six>=1.5 in c:\\users\\91975\\anaconda3\\lib\\site-packages (from python-dateutil>=2.7->matplotlib>=3.0.0->mlxtend) (1.16.0)\n",
      "Installing collected packages: mlxtend\n",
      "Successfully installed mlxtend-0.22.0\n",
      "Note: you may need to restart the kernel to use updated packages.\n"
     ]
    }
   ],
   "source": [
    "pip install mlxtend"
   ]
  },
  {
   "cell_type": "code",
   "execution_count": 16,
   "id": "4a3cae72",
   "metadata": {},
   "outputs": [
    {
     "name": "stdout",
     "output_type": "stream",
     "text": [
      "Help on function apriori in module mlxtend.frequent_patterns.apriori:\n",
      "\n",
      "apriori(df, min_support=0.5, use_colnames=False, max_len=None, verbose=0, low_memory=False)\n",
      "    Get frequent itemsets from a one-hot DataFrame\n",
      "    \n",
      "    Parameters\n",
      "    -----------\n",
      "    df : pandas DataFrame\n",
      "      pandas DataFrame the encoded format. Also supports\n",
      "      DataFrames with sparse data; for more info, please\n",
      "      see (https://pandas.pydata.org/pandas-docs/stable/\n",
      "           user_guide/sparse.html#sparse-data-structures)\n",
      "    \n",
      "      Please note that the old pandas SparseDataFrame format\n",
      "      is no longer supported in mlxtend >= 0.17.2.\n",
      "    \n",
      "      The allowed values are either 0/1 or True/False.\n",
      "      For example,\n",
      "    \n",
      "    ```\n",
      "             Apple  Bananas   Beer  Chicken   Milk   Rice\n",
      "        0     True    False   True     True  False   True\n",
      "        1     True    False   True    False  False   True\n",
      "        2     True    False   True    False  False  False\n",
      "        3     True     True  False    False  False  False\n",
      "        4    False    False   True     True   True   True\n",
      "        5    False    False   True    False   True   True\n",
      "        6    False    False   True    False   True  False\n",
      "        7     True     True  False    False  False  False\n",
      "    ```\n",
      "    \n",
      "    min_support : float (default: 0.5)\n",
      "      A float between 0 and 1 for minumum support of the itemsets returned.\n",
      "      The support is computed as the fraction\n",
      "      `transactions_where_item(s)_occur / total_transactions`.\n",
      "    \n",
      "    use_colnames : bool (default: False)\n",
      "      If `True`, uses the DataFrames' column names in the returned DataFrame\n",
      "      instead of column indices.\n",
      "    \n",
      "    max_len : int (default: None)\n",
      "      Maximum length of the itemsets generated. If `None` (default) all\n",
      "      possible itemsets lengths (under the apriori condition) are evaluated.\n",
      "    \n",
      "    verbose : int (default: 0)\n",
      "      Shows the number of iterations if >= 1 and `low_memory` is `True`. If\n",
      "      >=1 and `low_memory` is `False`, shows the number of combinations.\n",
      "    \n",
      "    low_memory : bool (default: False)\n",
      "      If `True`, uses an iterator to search for combinations above\n",
      "      `min_support`.\n",
      "      Note that while `low_memory=True` should only be used for large dataset\n",
      "      if memory resources are limited, because this implementation is approx.\n",
      "      3-6x slower than the default.\n",
      "    \n",
      "    \n",
      "    Returns\n",
      "    -----------\n",
      "    pandas DataFrame with columns ['support', 'itemsets'] of all itemsets\n",
      "      that are >= `min_support` and < than `max_len`\n",
      "      (if `max_len` is not None).\n",
      "      Each itemset in the 'itemsets' column is of type `frozenset`,\n",
      "      which is a Python built-in type that behaves similarly to\n",
      "      sets except that it is immutable\n",
      "      (For more info, see\n",
      "      https://docs.python.org/3.6/library/stdtypes.html#frozenset).\n",
      "    \n",
      "    Examples\n",
      "    -----------\n",
      "    For usage examples, please see\n",
      "    https://rasbt.github.io/mlxtend/user_guide/frequent_patterns/apriori/\n",
      "\n"
     ]
    }
   ],
   "source": [
    "help(apriori)"
   ]
  },
  {
   "cell_type": "code",
   "execution_count": 3,
   "id": "29a4f4c8",
   "metadata": {},
   "outputs": [],
   "source": [
    "import mlxtend"
   ]
  },
  {
   "cell_type": "code",
   "execution_count": 4,
   "id": "fb9c4c8f",
   "metadata": {},
   "outputs": [],
   "source": [
    "from mlxtend.preprocessing import TransactionEncoder\n",
    "import pandas as pd\n",
    "from mlxtend.frequent_patterns import apriori"
   ]
  },
  {
   "cell_type": "code",
   "execution_count": 8,
   "id": "e9944724",
   "metadata": {},
   "outputs": [
    {
     "name": "stdout",
     "output_type": "stream",
     "text": [
      "[['burgers' 'meatballs' 'eggs' ... '' '' '']\n",
      " ['chutney' '' '' ... '' '' '']\n",
      " ['turkey' 'avocado' '' ... '' '' '']\n",
      " ...\n",
      " ['chicken' '' '' ... '' '' '']\n",
      " ['escalope' 'green tea' '' ... '' '' '']\n",
      " ['eggs' 'frozen smoothie' 'yogurt cake' ... '' '' '']]\n"
     ]
    }
   ],
   "source": [
    "data=pd.read_csv(\"Market_Basket_Optimisation.csv\", na_filter=False)\n",
    "data=data.to_numpy()\n",
    "print(data)"
   ]
  },
  {
   "cell_type": "code",
   "execution_count": 9,
   "id": "8cee484f",
   "metadata": {},
   "outputs": [],
   "source": [
    "tran_enc = TransactionEncoder()"
   ]
  },
  {
   "cell_type": "code",
   "execution_count": 11,
   "id": "7816fe91",
   "metadata": {},
   "outputs": [
    {
     "name": "stdout",
     "output_type": "stream",
     "text": [
      "[[ True False False ... False False False]\n",
      " [ True False False ... False False False]\n",
      " [ True False False ... False False False]\n",
      " ...\n",
      " [ True False False ... False False False]\n",
      " [ True False False ... False False False]\n",
      " [ True False False ... False  True False]]\n"
     ]
    }
   ],
   "source": [
    "array=tran_enc.fit(data).transform(data)\n",
    "print(array)"
   ]
  },
  {
   "cell_type": "code",
   "execution_count": 12,
   "id": "8bbf59e5",
   "metadata": {},
   "outputs": [
    {
     "name": "stdout",
     "output_type": "stream",
     "text": [
      "['', 'almonds', 'antioxydant juice', 'asparagus', 'avocado', 'babies food', 'bacon', 'barbecue sauce', 'black tea', 'blueberries', 'body spray', 'bramble', 'brownies', 'bug spray', 'burger sauce', 'burgers', 'butter', 'cake', 'candy bars', 'carrots', 'cauliflower', 'cereals', 'champagne', 'chicken', 'chili', 'chocolate', 'chocolate bread', 'chutney', 'cider', 'clothes accessories', 'cookies', 'cooking oil', 'corn', 'cottage cheese', 'cream', 'dessert wine', 'eggplant', 'eggs', 'energy bar', 'energy drink', 'escalope', 'extra dark chocolate', 'flax seed', 'french fries', 'french wine', 'fresh bread', 'fresh tuna', 'fromage blanc', 'frozen smoothie', 'frozen vegetables', 'gluten free bar', 'grated cheese', 'green beans', 'green grapes', 'green tea', 'ground beef', 'gums', 'ham', 'hand protein bar', 'herb & pepper', 'honey', 'hot dogs', 'ketchup', 'light cream', 'light mayo', 'low fat yogurt', 'magazines', 'mashed potato', 'mayonnaise', 'meatballs', 'melons', 'milk', 'mineral water', 'mint', 'mint green tea', 'muffins', 'mushroom cream sauce', 'napkins', 'nonfat milk', 'oatmeal', 'oil', 'olive oil', 'pancakes', 'parmesan cheese', 'pasta', 'pepper', 'pet food', 'pickles', 'protein bar', 'red wine', 'rice', 'salad', 'salmon', 'salt', 'sandwich', 'shallot', 'shampoo', 'shrimp', 'soda', 'soup', 'spaghetti', 'sparkling water', 'spinach', 'strawberries', 'strong cheese', 'tea', 'tomato juice', 'tomato sauce', 'tomatoes', 'toothpaste', 'turkey', 'vegetables mix', 'water spray', 'white wine', 'whole weat flour', 'whole wheat pasta', 'whole wheat rice', 'yams', 'yogurt cake', 'zucchini']\n"
     ]
    }
   ],
   "source": [
    "columns=tran_enc.columns_\n",
    "print(columns)"
   ]
  },
  {
   "cell_type": "code",
   "execution_count": 13,
   "id": "44236c59",
   "metadata": {},
   "outputs": [
    {
     "name": "stdout",
     "output_type": "stream",
     "text": [
      "      almonds  antioxydant juice  asparagus  avocado  babies food  bacon  \\\n",
      "0       False              False      False    False        False  False   \n",
      "1       False              False      False    False        False  False   \n",
      "2       False              False      False     True        False  False   \n",
      "3       False              False      False    False        False  False   \n",
      "4       False              False      False    False        False  False   \n",
      "...       ...                ...        ...      ...          ...    ...   \n",
      "7495    False              False      False    False        False  False   \n",
      "7496    False              False      False    False        False  False   \n",
      "7497    False              False      False    False        False  False   \n",
      "7498    False              False      False    False        False  False   \n",
      "7499    False              False      False    False        False  False   \n",
      "\n",
      "      barbecue sauce  black tea  blueberries  body spray  ...  turkey  \\\n",
      "0              False      False        False       False  ...   False   \n",
      "1              False      False        False       False  ...   False   \n",
      "2              False      False        False       False  ...    True   \n",
      "3              False      False        False       False  ...   False   \n",
      "4              False      False        False       False  ...   False   \n",
      "...              ...        ...          ...         ...  ...     ...   \n",
      "7495           False      False        False       False  ...   False   \n",
      "7496           False      False        False       False  ...   False   \n",
      "7497           False      False        False       False  ...   False   \n",
      "7498           False      False        False       False  ...   False   \n",
      "7499           False      False        False       False  ...   False   \n",
      "\n",
      "      vegetables mix  water spray  white wine  whole weat flour  \\\n",
      "0              False        False       False             False   \n",
      "1              False        False       False             False   \n",
      "2              False        False       False             False   \n",
      "3              False        False       False             False   \n",
      "4              False        False       False             False   \n",
      "...              ...          ...         ...               ...   \n",
      "7495           False        False       False             False   \n",
      "7496           False        False       False             False   \n",
      "7497           False        False       False             False   \n",
      "7498           False        False       False             False   \n",
      "7499           False        False       False             False   \n",
      "\n",
      "      whole wheat pasta  whole wheat rice   yams  yogurt cake  zucchini  \n",
      "0                 False             False  False        False     False  \n",
      "1                 False             False  False        False     False  \n",
      "2                 False             False  False        False     False  \n",
      "3                 False              True  False        False     False  \n",
      "4                 False             False  False        False     False  \n",
      "...                 ...               ...    ...          ...       ...  \n",
      "7495              False             False  False        False     False  \n",
      "7496              False             False  False        False     False  \n",
      "7497              False             False  False        False     False  \n",
      "7498              False             False  False        False     False  \n",
      "7499              False             False  False         True     False  \n",
      "\n",
      "[7500 rows x 119 columns]\n"
     ]
    }
   ],
   "source": [
    "df=pd.DataFrame(array, columns=columns).drop([''], axis=1)\n",
    "print(df)"
   ]
  },
  {
   "cell_type": "code",
   "execution_count": 14,
   "id": "2117a5c9",
   "metadata": {},
   "outputs": [
    {
     "name": "stdout",
     "output_type": "stream",
     "text": [
      "      support                                 itemsets  Length\n",
      "0    0.020267                                (almonds)       1\n",
      "1    0.033200                                (avocado)       1\n",
      "2    0.010800                         (barbecue sauce)       1\n",
      "3    0.014267                              (black tea)       1\n",
      "4    0.011467                             (body spray)       1\n",
      "..        ...                                      ...     ...\n",
      "254  0.011067       (milk, ground beef, mineral water)       3\n",
      "255  0.017067  (spaghetti, ground beef, mineral water)       3\n",
      "256  0.015733         (spaghetti, milk, mineral water)       3\n",
      "257  0.010267    (spaghetti, olive oil, mineral water)       3\n",
      "258  0.011467     (spaghetti, pancakes, mineral water)       3\n",
      "\n",
      "[259 rows x 3 columns]\n"
     ]
    }
   ],
   "source": [
    "support_df=apriori(df,min_support=0.01,use_colnames=True)\n",
    "support_df[\"Length\"]=support_df['itemsets'].apply(lambda x:len(x))\n",
    "print(support_df)"
   ]
  },
  {
   "cell_type": "code",
   "execution_count": 15,
   "id": "dccd71cd",
   "metadata": {},
   "outputs": [
    {
     "name": "stdout",
     "output_type": "stream",
     "text": [
      "      support                                 itemsets  Length\n",
      "75   0.011467                 (avocado, mineral water)       2\n",
      "76   0.011467                          (burgers, cake)       2\n",
      "77   0.017067                     (burgers, chocolate)       2\n",
      "78   0.028800                          (burgers, eggs)       2\n",
      "79   0.022000                  (burgers, french fries)       2\n",
      "..        ...                                      ...     ...\n",
      "254  0.011067       (milk, ground beef, mineral water)       3\n",
      "255  0.017067  (spaghetti, ground beef, mineral water)       3\n",
      "256  0.015733         (spaghetti, milk, mineral water)       3\n",
      "257  0.010267    (spaghetti, olive oil, mineral water)       3\n",
      "258  0.011467     (spaghetti, pancakes, mineral water)       3\n",
      "\n",
      "[182 rows x 3 columns]\n"
     ]
    }
   ],
   "source": [
    "print(support_df[(support_df['Length']>=2) &\n",
    "                 (support_df['support']>0.01)])"
   ]
  }
 ],
 "metadata": {
  "kernelspec": {
   "display_name": "Python 3 (ipykernel)",
   "language": "python",
   "name": "python3"
  },
  "language_info": {
   "codemirror_mode": {
    "name": "ipython",
    "version": 3
   },
   "file_extension": ".py",
   "mimetype": "text/x-python",
   "name": "python",
   "nbconvert_exporter": "python",
   "pygments_lexer": "ipython3",
   "version": "3.10.9"
  }
 },
 "nbformat": 4,
 "nbformat_minor": 5
}
