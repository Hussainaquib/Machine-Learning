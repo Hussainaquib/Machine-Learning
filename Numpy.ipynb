{
 "cells": [
  {
   "cell_type": "code",
   "execution_count": 1,
   "id": "df55b0aa",
   "metadata": {},
   "outputs": [],
   "source": [
    "import numpy as np"
   ]
  },
  {
   "cell_type": "code",
   "execution_count": 2,
   "id": "c9decdd7",
   "metadata": {},
   "outputs": [
    {
     "name": "stdout",
     "output_type": "stream",
     "text": [
      "[1 2 3 4 5 6 7]\n",
      "<class 'numpy.ndarray'>\n",
      "1\n",
      "(7,)\n",
      "7\n",
      "1\n"
     ]
    }
   ],
   "source": [
    "# 1D array creation\n",
    "\n",
    "arr = np.array([1,2,3,4,5,6,7])\n",
    "print(arr)\n",
    "print(type(arr)) # to chake the type\n",
    "print(arr.ndim) # to check the dimension of data\n",
    "print(arr.shape) # to check the shape\n",
    "print(arr.max()) # to find max in array\n",
    "print(arr.min()) # to find min in array"
   ]
  },
  {
   "cell_type": "code",
   "execution_count": 3,
   "id": "c2891650",
   "metadata": {},
   "outputs": [
    {
     "name": "stdout",
     "output_type": "stream",
     "text": [
      "[[1 2]\n",
      " [4 5]\n",
      " [6 7]]\n",
      "<class 'numpy.ndarray'>\n",
      "2\n",
      "(3, 2)\n",
      "7\n",
      "1\n"
     ]
    }
   ],
   "source": [
    "# 2D array creation\n",
    "\n",
    "arr = np.array([[1,2],[4,5],[6,7]])\n",
    "print(arr)\n",
    "print(type(arr)) # to chake the type\n",
    "print(arr.ndim) # to check the dimension of data\n",
    "print(arr.shape) # to check the shape\n",
    "print(arr.max()) # to find max in array\n",
    "print(arr.min()) # to find min in array"
   ]
  },
  {
   "cell_type": "code",
   "execution_count": 4,
   "id": "10b65985",
   "metadata": {},
   "outputs": [
    {
     "name": "stdout",
     "output_type": "stream",
     "text": [
      "[[[1 2]\n",
      "  [4 5]\n",
      "  [6 7]]]\n",
      "<class 'numpy.ndarray'>\n",
      "3\n",
      "(1, 3, 2)\n",
      "7\n",
      "1\n"
     ]
    }
   ],
   "source": [
    "# 3D array creation\n",
    "\n",
    "arr = np.array([[[1,2],[4,5],[6,7]]])\n",
    "print(arr)\n",
    "print(type(arr)) # to chake the type\n",
    "print(arr.ndim) # to check the dimension of data\n",
    "print(arr.shape) # to check the shape\n",
    "print(arr.max()) # to find max in array\n",
    "print(arr.min()) # to find min in array"
   ]
  },
  {
   "cell_type": "code",
   "execution_count": 5,
   "id": "9375c022",
   "metadata": {},
   "outputs": [
    {
     "name": "stdout",
     "output_type": "stream",
     "text": [
      "(3, 2, 2)\n"
     ]
    }
   ],
   "source": [
    "# create a nd array with this shape (3,2,2)\n",
    "\n",
    "arr = np.array([[[1,2],[4,5]],\n",
    "               [[1,2],[4,5]],\n",
    "               [[1,2],[4,5]]])\n",
    "print(arr.shape) "
   ]
  },
  {
   "cell_type": "code",
   "execution_count": 6,
   "id": "d65cc383",
   "metadata": {},
   "outputs": [
    {
     "name": "stdout",
     "output_type": "stream",
     "text": [
      "[ 1  2  3  4  5  6  7  8  9 10 11 12 13 14 15 16 17 18 19 20 21 22 23 24\n",
      " 25 26 27 28 29 30 31 32 33 34 35 36 37 38 39 40 41 42 43 44 45 46 47 48]\n",
      "<class 'numpy.ndarray'>\n",
      "1\n",
      "(48,)\n",
      "48\n",
      "1\n",
      "[[[[ 1  2]\n",
      "   [ 3  4]]\n",
      "\n",
      "  [[ 5  6]\n",
      "   [ 7  8]]\n",
      "\n",
      "  [[ 9 10]\n",
      "   [11 12]]\n",
      "\n",
      "  [[13 14]\n",
      "   [15 16]]]\n",
      "\n",
      "\n",
      " [[[17 18]\n",
      "   [19 20]]\n",
      "\n",
      "  [[21 22]\n",
      "   [23 24]]\n",
      "\n",
      "  [[25 26]\n",
      "   [27 28]]\n",
      "\n",
      "  [[29 30]\n",
      "   [31 32]]]\n",
      "\n",
      "\n",
      " [[[33 34]\n",
      "   [35 36]]\n",
      "\n",
      "  [[37 38]\n",
      "   [39 40]]\n",
      "\n",
      "  [[41 42]\n",
      "   [43 44]]\n",
      "\n",
      "  [[45 46]\n",
      "   [47 48]]]]\n",
      "(3, 4, 2, 2)\n"
     ]
    }
   ],
   "source": [
    "# create an array with this shape (3,4,2,2)\n",
    "\n",
    "import numpy as np\n",
    "arr1=np.arange(1,49)\n",
    "print(arr1)\n",
    "print(type(arr1)) # to chake the type\n",
    "print(arr1.ndim) # to check the dimension of data\n",
    "print(arr1.shape) # to check the shape\n",
    "print(arr1.max()) # to find max in array\n",
    "print(arr1.min()) # to find min in array\n",
    "arr1=arr1.reshape((3,4,2,2))\n",
    "print(arr1)\n",
    "print(arr1.shape)"
   ]
  },
  {
   "cell_type": "code",
   "execution_count": 7,
   "id": "8d7e7bd7",
   "metadata": {},
   "outputs": [
    {
     "name": "stdout",
     "output_type": "stream",
     "text": [
      "[5 5 5 5 5 5 5 5 5 5]\n"
     ]
    }
   ],
   "source": [
    " # to fill all the element with \"5\" used for overwrite on existing one\n",
    "\n",
    "import numpy as np\n",
    "arr1=np.arange(1,11)\n",
    "arr1.fill(5)\n",
    "print(arr1)"
   ]
  },
  {
   "cell_type": "code",
   "execution_count": 8,
   "id": "7a390543",
   "metadata": {},
   "outputs": [
    {
     "name": "stdout",
     "output_type": "stream",
     "text": [
      "[[[6. 6.]\n",
      "  [6. 6.]\n",
      "  [6. 6.]\n",
      "  [6. 6.]]\n",
      "\n",
      " [[6. 6.]\n",
      "  [6. 6.]\n",
      "  [6. 6.]\n",
      "  [6. 6.]]\n",
      "\n",
      " [[6. 6.]\n",
      "  [6. 6.]\n",
      "  [6. 6.]\n",
      "  [6. 6.]]]\n"
     ]
    }
   ],
   "source": [
    "#fill all the element with float \"6\"\n",
    "\n",
    "arr2=np.full((3,4,2),6,dtype=float) \n",
    "print(arr2)"
   ]
  },
  {
   "cell_type": "code",
   "execution_count": 9,
   "id": "d0224e67",
   "metadata": {},
   "outputs": [
    {
     "name": "stdout",
     "output_type": "stream",
     "text": [
      "[[0 0 0 0]\n",
      " [0 0 0 0]\n",
      " [0 0 0 0]\n",
      " [0 0 0 0]\n",
      " [0 0 0 0]]\n"
     ]
    }
   ],
   "source": [
    "#here the default dtype is \"0\"\n",
    "\n",
    "zero=np.zeros((5,4),dtype=int) \n",
    "print(zero)"
   ]
  },
  {
   "cell_type": "code",
   "execution_count": 10,
   "id": "1cbf88fa",
   "metadata": {},
   "outputs": [
    {
     "name": "stdout",
     "output_type": "stream",
     "text": [
      "[[1 1 1 1 1]\n",
      " [1 1 1 1 1]\n",
      " [1 1 1 1 1]\n",
      " [1 1 1 1 1]]\n"
     ]
    }
   ],
   "source": [
    " #here the default dtype is \"1\"\n",
    "    \n",
    "one=np.ones((4,5),dtype=int)\n",
    "print(one)"
   ]
  },
  {
   "cell_type": "code",
   "execution_count": 11,
   "id": "0e7fde5e",
   "metadata": {},
   "outputs": [
    {
     "name": "stdout",
     "output_type": "stream",
     "text": [
      "[[1 0 0 0 0]\n",
      " [0 1 0 0 0]\n",
      " [0 0 1 0 0]\n",
      " [0 0 0 1 0]]\n"
     ]
    }
   ],
   "source": [
    "# create indentity matrix\n",
    "\n",
    "import numpy as np\n",
    "eye=np.eye(4,5,dtype=int) \n",
    "print(eye)"
   ]
  },
  {
   "cell_type": "code",
   "execution_count": 12,
   "id": "b252aa5a",
   "metadata": {},
   "outputs": [
    {
     "name": "stdout",
     "output_type": "stream",
     "text": [
      "[[ 1  0  0  0]\n",
      " [ 0  1  0  0]\n",
      " [ 0  0  1  0]\n",
      " [ 0  0  0  1]\n",
      " [ 0  1  2  3]\n",
      " [ 4  5  6  7]\n",
      " [ 8  9 10 11]\n",
      " [12 13 14 15]]\n"
     ]
    }
   ],
   "source": [
    "# axis =0 append on column\n",
    "\n",
    "eye=np.eye(4,4,dtype=int) # create indentity matrix\n",
    "# one=np.ones((4,5),dtype=int) \n",
    "# print(eye)\n",
    "print(np.append(eye,np.arange(16).reshape((4,4)),axis=0))"
   ]
  },
  {
   "cell_type": "code",
   "execution_count": 13,
   "id": "02632633",
   "metadata": {},
   "outputs": [
    {
     "name": "stdout",
     "output_type": "stream",
     "text": [
      "[[ 1  0  0  0  0  1  2  3]\n",
      " [ 0  1  0  0  4  5  6  7]\n",
      " [ 0  0  1  0  8  9 10 11]\n",
      " [ 0  0  0  1 12 13 14 15]]\n"
     ]
    }
   ],
   "source": [
    "# axis =1 append on row\n",
    "\n",
    "eye=np.eye(4,4,dtype=int) # create indentity matrix\n",
    "print(np.append(eye,np.arange(16).reshape((4,4)),axis=1)) "
   ]
  },
  {
   "cell_type": "code",
   "execution_count": 14,
   "id": "7bb389ba",
   "metadata": {},
   "outputs": [
    {
     "name": "stdout",
     "output_type": "stream",
     "text": [
      "[[ 1  0  0  0  0  1  2  3  0  1  2  3]\n",
      " [ 0  1  0  0  4  5  6  7  4  5  6  7]\n",
      " [ 0  0  1  0  8  9 10 11  8  9 10 11]\n",
      " [ 0  0  0  1 12 13 14 15 12 13 14 15]]\n",
      "class:  ndarray\n",
      "shape:  (4, 12)\n",
      "strides:  (48, 4)\n",
      "itemsize:  4\n",
      "aligned:  True\n",
      "contiguous:  True\n",
      "fortran:  False\n",
      "data pointer: 0x23526fba240\n",
      "byteorder:  little\n",
      "byteswap:  False\n",
      "type: int32\n",
      "None\n"
     ]
    }
   ],
   "source": [
    "# concatenate are used to concatenate the two or more than two array at once\n",
    "\n",
    "eye = np.eye(4, dtype=int)  # create identity matrix\n",
    "arr1 = np.arange(16).reshape((4, 4))  # create a 4x4 array\n",
    "arr2 = np.arange(16).reshape((4, 4)) \n",
    "concatenated = np.concatenate([eye, arr1,arr2], axis=1)  # Concatenate along columns\n",
    "print(concatenated)\n",
    "print(np.info(concatenated)) #for complete information about given array"
   ]
  },
  {
   "cell_type": "code",
   "execution_count": 15,
   "id": "fdc77dd1",
   "metadata": {},
   "outputs": [
    {
     "name": "stdout",
     "output_type": "stream",
     "text": [
      "[[22 25]\n",
      " [50 57]]\n"
     ]
    }
   ],
   "source": [
    "# dot matrix multiplication \n",
    "\n",
    "out=np.dot(np.array([[1,2],[3,4]]),np.array([[6,7],[8,9]]))\n",
    "print(out)"
   ]
  },
  {
   "cell_type": "code",
   "execution_count": 16,
   "id": "bee63932",
   "metadata": {},
   "outputs": [
    {
     "name": "stdout",
     "output_type": "stream",
     "text": [
      "[[20 46 72]\n",
      " [26 60 94]]\n"
     ]
    }
   ],
   "source": [
    "# dot matrix multiplication with transpose the second array\n",
    "\n",
    "import numpy as np\n",
    "out=np.dot(np.array([[6,7],[8,9]]),np.array([[1,2],[3,4],[5,6]]).T)\n",
    "print(out)"
   ]
  },
  {
   "cell_type": "code",
   "execution_count": 17,
   "id": "f0581887",
   "metadata": {},
   "outputs": [
    {
     "name": "stdout",
     "output_type": "stream",
     "text": [
      "enter a number :5\n",
      "1 2 3 4 5\n",
      "5 6 7 8 9\n",
      "2 4 6 8 9\n",
      "5 6 7 8 9\n",
      "2 4 6 8 9\n",
      "[[1 2 3 4 5]\n",
      " [5 6 7 8 9]\n",
      " [2 4 6 8 9]\n",
      " [5 6 7 8 9]\n",
      " [2 4 6 8 9]]\n",
      "(5, 5)\n"
     ]
    }
   ],
   "source": [
    "'''ask the user to enter the number:5\n",
    "1 2 3 4 5\n",
    "5 6 7 8 9\n",
    "2 4 6 8 9\n",
    "5 6 7 8 9\n",
    "2 4 6 8 9\n",
    "combine all element in above and make a shape with (5,5) as array\n",
    "\n",
    "'''\n",
    "array=[]\n",
    "for x in range(int(input(\"enter a number :\"))):\n",
    "    out=[int(j) for j in input().split()]\n",
    "    array.append(out)\n",
    "else:\n",
    "    array=np.array(array)\n",
    "    print(array)\n",
    "    print(array.shape)"
   ]
  },
  {
   "cell_type": "code",
   "execution_count": 18,
   "id": "8db92ca8",
   "metadata": {},
   "outputs": [
    {
     "name": "stdout",
     "output_type": "stream",
     "text": [
      "[[20 46 72]\n",
      " [26 60 94]]\n"
     ]
    }
   ],
   "source": [
    "out=np.dot(np.array([[6,7],[8,9]]),np.array([[1,2],[3,4],[5,6]]).T)\n",
    "print(out)\n",
    "# np.save(\"data.txt\",out) # store data in binary formate\n",
    "np.savetxt(\"data.txt\",out) #save data with .npy extension\n",
    "# we can also use delimeter np.savetxt(\"data.txt\",out,delimeter=',') "
   ]
  },
  {
   "cell_type": "code",
   "execution_count": 19,
   "id": "8597cc04",
   "metadata": {},
   "outputs": [
    {
     "name": "stdout",
     "output_type": "stream",
     "text": [
      "Help on built-in function array in module numpy:\n",
      "\n",
      "array(...)\n",
      "    array(object, dtype=None, *, copy=True, order='K', subok=False, ndmin=0,\n",
      "          like=None)\n",
      "    \n",
      "    Create an array.\n",
      "    \n",
      "    Parameters\n",
      "    ----------\n",
      "    object : array_like\n",
      "        An array, any object exposing the array interface, an object whose\n",
      "        __array__ method returns an array, or any (nested) sequence.\n",
      "        If object is a scalar, a 0-dimensional array containing object is\n",
      "        returned.\n",
      "    dtype : data-type, optional\n",
      "        The desired data-type for the array.  If not given, then the type will\n",
      "        be determined as the minimum type required to hold the objects in the\n",
      "        sequence.\n",
      "    copy : bool, optional\n",
      "        If true (default), then the object is copied.  Otherwise, a copy will\n",
      "        only be made if __array__ returns a copy, if obj is a nested sequence,\n",
      "        or if a copy is needed to satisfy any of the other requirements\n",
      "        (`dtype`, `order`, etc.).\n",
      "    order : {'K', 'A', 'C', 'F'}, optional\n",
      "        Specify the memory layout of the array. If object is not an array, the\n",
      "        newly created array will be in C order (row major) unless 'F' is\n",
      "        specified, in which case it will be in Fortran order (column major).\n",
      "        If object is an array the following holds.\n",
      "    \n",
      "        ===== ========= ===================================================\n",
      "        order  no copy                     copy=True\n",
      "        ===== ========= ===================================================\n",
      "        'K'   unchanged F & C order preserved, otherwise most similar order\n",
      "        'A'   unchanged F order if input is F and not C, otherwise C order\n",
      "        'C'   C order   C order\n",
      "        'F'   F order   F order\n",
      "        ===== ========= ===================================================\n",
      "    \n",
      "        When ``copy=False`` and a copy is made for other reasons, the result is\n",
      "        the same as if ``copy=True``, with some exceptions for 'A', see the\n",
      "        Notes section. The default order is 'K'.\n",
      "    subok : bool, optional\n",
      "        If True, then sub-classes will be passed-through, otherwise\n",
      "        the returned array will be forced to be a base-class array (default).\n",
      "    ndmin : int, optional\n",
      "        Specifies the minimum number of dimensions that the resulting\n",
      "        array should have.  Ones will be prepended to the shape as\n",
      "        needed to meet this requirement.\n",
      "    like : array_like, optional\n",
      "        Reference object to allow the creation of arrays which are not\n",
      "        NumPy arrays. If an array-like passed in as ``like`` supports\n",
      "        the ``__array_function__`` protocol, the result will be defined\n",
      "        by it. In this case, it ensures the creation of an array object\n",
      "        compatible with that passed in via this argument.\n",
      "    \n",
      "        .. versionadded:: 1.20.0\n",
      "    \n",
      "    Returns\n",
      "    -------\n",
      "    out : ndarray\n",
      "        An array object satisfying the specified requirements.\n",
      "    \n",
      "    See Also\n",
      "    --------\n",
      "    empty_like : Return an empty array with shape and type of input.\n",
      "    ones_like : Return an array of ones with shape and type of input.\n",
      "    zeros_like : Return an array of zeros with shape and type of input.\n",
      "    full_like : Return a new array with shape of input filled with value.\n",
      "    empty : Return a new uninitialized array.\n",
      "    ones : Return a new array setting values to one.\n",
      "    zeros : Return a new array setting values to zero.\n",
      "    full : Return a new array of given shape filled with value.\n",
      "    \n",
      "    \n",
      "    Notes\n",
      "    -----\n",
      "    When order is 'A' and `object` is an array in neither 'C' nor 'F' order,\n",
      "    and a copy is forced by a change in dtype, then the order of the result is\n",
      "    not necessarily 'C' as expected. This is likely a bug.\n",
      "    \n",
      "    Examples\n",
      "    --------\n",
      "    >>> np.array([1, 2, 3])\n",
      "    array([1, 2, 3])\n",
      "    \n",
      "    Upcasting:\n",
      "    \n",
      "    >>> np.array([1, 2, 3.0])\n",
      "    array([ 1.,  2.,  3.])\n",
      "    \n",
      "    More than one dimension:\n",
      "    \n",
      "    >>> np.array([[1, 2], [3, 4]])\n",
      "    array([[1, 2],\n",
      "           [3, 4]])\n",
      "    \n",
      "    Minimum dimensions 2:\n",
      "    \n",
      "    >>> np.array([1, 2, 3], ndmin=2)\n",
      "    array([[1, 2, 3]])\n",
      "    \n",
      "    Type provided:\n",
      "    \n",
      "    >>> np.array([1, 2, 3], dtype=complex)\n",
      "    array([ 1.+0.j,  2.+0.j,  3.+0.j])\n",
      "    \n",
      "    Data-type consisting of more than one element:\n",
      "    \n",
      "    >>> x = np.array([(1,2),(3,4)],dtype=[('a','<i4'),('b','<i4')])\n",
      "    >>> x['a']\n",
      "    array([1, 3])\n",
      "    \n",
      "    Creating an array from sub-classes:\n",
      "    \n",
      "    >>> np.array(np.mat('1 2; 3 4'))\n",
      "    array([[1, 2],\n",
      "           [3, 4]])\n",
      "    \n",
      "    >>> np.array(np.mat('1 2; 3 4'), subok=True)\n",
      "    matrix([[1, 2],\n",
      "            [3, 4]])\n",
      "\n"
     ]
    }
   ],
   "source": [
    "help(np.array)"
   ]
  },
  {
   "cell_type": "code",
   "execution_count": 20,
   "id": "a90f3970",
   "metadata": {},
   "outputs": [
    {
     "name": "stdout",
     "output_type": "stream",
     "text": [
      "[0.79420766 0.31799381 0.49968328 0.09351561 0.02925394 0.49771241\n",
      " 0.14307338 0.40321509 0.88932119 0.0097174 ]\n"
     ]
    }
   ],
   "source": [
    "random_array=np.random.random(10)\n",
    "print(random_array)"
   ]
  },
  {
   "cell_type": "code",
   "execution_count": 21,
   "id": "d79ff5c8",
   "metadata": {},
   "outputs": [
    {
     "name": "stdout",
     "output_type": "stream",
     "text": [
      "[11  5 13 10 16 18 10 14  9 14]\n"
     ]
    }
   ],
   "source": [
    "# 10 number randomly generated in between 5 and 20\n",
    "\n",
    "print(np.random.randint(5,20,10))"
   ]
  }
 ],
 "metadata": {
  "kernelspec": {
   "display_name": "Python 3 (ipykernel)",
   "language": "python",
   "name": "python3"
  },
  "language_info": {
   "codemirror_mode": {
    "name": "ipython",
    "version": 3
   },
   "file_extension": ".py",
   "mimetype": "text/x-python",
   "name": "python",
   "nbconvert_exporter": "python",
   "pygments_lexer": "ipython3",
   "version": "3.10.9"
  }
 },
 "nbformat": 4,
 "nbformat_minor": 5
}
