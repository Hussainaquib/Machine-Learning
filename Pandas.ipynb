{
 "cells": [
  {
   "cell_type": "code",
   "execution_count": 1,
   "id": "a80594a7",
   "metadata": {},
   "outputs": [],
   "source": [
    "import pandas as pd"
   ]
  },
  {
   "cell_type": "code",
   "execution_count": 7,
   "id": "ae7367c7",
   "metadata": {},
   "outputs": [
    {
     "name": "stdout",
     "output_type": "stream",
     "text": [
      "1         9\n",
      "2       8.1\n",
      "3       4.4\n",
      "4         6\n",
      "5    ashish\n",
      "Name: series, dtype: object\n",
      "4.4\n"
     ]
    }
   ],
   "source": [
    "# creating series and extract element, series can be mixture of different data type\n",
    "\n",
    "series=pd.Series([9,8.1,4.4,6,\"ashish\"],\n",
    "                 dtype=object,\n",
    "                 index=range(1,6),\n",
    "                 name=\"series\")\n",
    "print(series)"
   ]
  },
  {
   "cell_type": "code",
   "execution_count": 20,
   "id": "0b5135d8",
   "metadata": {},
   "outputs": [
    {
     "name": "stdout",
     "output_type": "stream",
     "text": [
      "6\n",
      "\n",
      "[9 8.1 4.4 6 3]\n",
      "\n",
      "(5,) 1\n",
      "\n",
      "<class 'pandas.core.series.Series'>\n",
      "Index: 5 entries, a to e\n",
      "Series name: series\n",
      "Non-Null Count  Dtype \n",
      "--------------  ----- \n",
      "5 non-null      object\n",
      "dtypes: object(1)\n",
      "memory usage: 80.0+ bytes\n",
      "None\n",
      "\n",
      "[('a', 9), ('b', 8.1), ('c', 4.4), ('d', 6), ('e', 3)]\n",
      "\n",
      "a    729.000\n",
      "b    531.441\n",
      "c     85.184\n",
      "d    216.000\n",
      "e     27.000\n",
      "Name: series, dtype: float64\n",
      "\n",
      "[729.    531.441  85.184 216.     27.   ]\n",
      "<class 'numpy.ndarray'>\n",
      "\n"
     ]
    }
   ],
   "source": [
    "# series creation with different operations on that\n",
    "\n",
    "series=pd.Series([9,8.1,4.4,6,3],\n",
    "                 dtype=object,\n",
    "                  index=[\"a\",\"b\",\"c\",\"d\",\"e\"],\n",
    "                 name=\"series\")\n",
    "\n",
    "#extract the element in series\n",
    "print(series[3])\n",
    "print()\n",
    "\n",
    "#find the values in series\n",
    "print(series.values)\n",
    "print()\n",
    "\n",
    "#find shape and dimension of series\n",
    "print(series.shape,series.ndim)\n",
    "print()\n",
    "\n",
    "#extract the information of series\n",
    "print(series.info())\n",
    "print()\n",
    "\n",
    "#find the items of series example key value pair in list formate\n",
    "print(list(series.items()))\n",
    "print()\n",
    "\n",
    "#update the values of series\n",
    "series=series.apply(lambda x:x**3)\n",
    "print(series)\n",
    "print()\n",
    "\n",
    "#series to array conversion\n",
    "print(series.to_numpy())\n",
    "print(type(series.to_numpy()))\n",
    "print()\n"
   ]
  },
  {
   "cell_type": "code",
   "execution_count": 24,
   "id": "d6e34aa3",
   "metadata": {},
   "outputs": [
    {
     "name": "stdout",
     "output_type": "stream",
     "text": [
      "   d  e  f\n",
      "a  1  2  3\n",
      "b  4  5  6\n",
      "c  7  8  9\n"
     ]
    }
   ],
   "source": [
    "# data frame creation (using array) exact same in below\n",
    "'''\n",
    "   d e f\n",
    "a  1 2 3\n",
    "b  4 5 6\n",
    "c  7 8 9\n",
    "'''\n",
    "df1=pd.DataFrame([[1,2,3],[4,5,6],[7,8,9]],\n",
    "                 index=['a','b','c'],\n",
    "                 columns=['d','e','f'])\n",
    "print(df1)"
   ]
  },
  {
   "cell_type": "code",
   "execution_count": 26,
   "id": "bf03cfda",
   "metadata": {},
   "outputs": [
    {
     "name": "stdout",
     "output_type": "stream",
     "text": [
      "   d  e  f\n",
      "a  1  2  3\n",
      "b  4  5  6\n",
      "c  7  8  9\n"
     ]
    }
   ],
   "source": [
    "# data frame creation (using dictionary) exact same in below\n",
    "'''\n",
    "   d e f\n",
    "a  1 2 3\n",
    "b  4 5 6\n",
    "c  7 8 9\n",
    "'''\n",
    "df2=pd.DataFrame({'d':[1,4,7],'e':[2,5,8],'f':[3,6,9]},index=['a','b','c'])\n",
    "print(df2)"
   ]
  },
  {
   "cell_type": "code",
   "execution_count": 27,
   "id": "866d8f7a",
   "metadata": {},
   "outputs": [
    {
     "name": "stdout",
     "output_type": "stream",
     "text": [
      "enter a number: 10\n",
      "   even  odd\n",
      "0     2    1\n",
      "1     4    3\n",
      "2     6    5\n",
      "3     8    7\n",
      "4    10    9\n"
     ]
    }
   ],
   "source": [
    "'''\n",
    "ask user to enter a number 10 from 1-10 that are even/oddand then add this on\n",
    "data frame formate where we have two column \"even\" and \"odd\"\n",
    "'''\n",
    "number=int(input(\"enter a number: \"))\n",
    "dic={'even':[],'odd':[]}\n",
    "for i in range(1,number+1):\n",
    "    if i%2==0:\n",
    "        dic['even'].append(i)\n",
    "    else:\n",
    "        dic['odd'].append(i)\n",
    "data=pd.DataFrame(dic)\n",
    "print(data)"
   ]
  },
  {
   "cell_type": "code",
   "execution_count": 43,
   "id": "a9267172",
   "metadata": {},
   "outputs": [
    {
     "name": "stdout",
     "output_type": "stream",
     "text": [
      "   even  odd  addition\n",
      "0     2    1       3.0\n",
      "1     4    3       7.0\n",
      "2     6    5      11.0\n",
      "3     8    7      15.0\n",
      "4    10    9      19.0\n",
      "\n",
      "<class 'pandas.core.frame.DataFrame'>\n",
      "RangeIndex: 5 entries, 0 to 4\n",
      "Data columns (total 3 columns):\n",
      " #   Column    Non-Null Count  Dtype  \n",
      "---  ------    --------------  -----  \n",
      " 0   even      5 non-null      int64  \n",
      " 1   odd       5 non-null      int64  \n",
      " 2   addition  5 non-null      float64\n",
      "dtypes: float64(1), int64(2)\n",
      "memory usage: 248.0 bytes\n",
      "None\n",
      "\n",
      "2 (5, 3)\n",
      "\n",
      "0     3.0\n",
      "1     7.0\n",
      "2    11.0\n",
      "3    15.0\n",
      "4    19.0\n",
      "Name: addition, dtype: float64\n",
      "<class 'pandas.core.series.Series'>\n",
      "\n",
      "0     3.0\n",
      "1     7.0\n",
      "2     NaN\n",
      "3    15.0\n",
      "4    19.0\n",
      "Name: addition, dtype: float64\n",
      "<class 'pandas.core.series.Series'>\n",
      "RangeIndex: 5 entries, 0 to 4\n",
      "Series name: addition\n",
      "Non-Null Count  Dtype  \n",
      "--------------  -----  \n",
      "4 non-null      float64\n",
      "dtypes: float64(1)\n",
      "memory usage: 168.0 bytes\n",
      "None\n",
      "\n",
      "   odd  addition\n",
      "3    7      15.0\n",
      "4    9      19.0\n",
      "\n",
      "   even  odd  addition\n",
      "0     2    1       3.0\n",
      "1     4    3       7.0\n",
      "3     8    7      15.0\n",
      "4    10    9      19.0\n",
      "\n",
      "   even  odd\n",
      "0     2    1\n",
      "1     4    3\n",
      "3     8    7\n",
      "4    10    9\n"
     ]
    }
   ],
   "source": [
    "'''\n",
    "ask user to enter a number 10 from 1-10 that are even/oddandthen add this on\n",
    "data frame formate where we have two column \"even\" and \"odd\" and add one more column addition (even+odd) on same row \n",
    "'''\n",
    "\n",
    "number=10 #int(input(\"enter a number: \"))\n",
    "dic={'even':[],'odd':[]}\n",
    "for i in range(1,number+1):\n",
    "    if i%2==0:\n",
    "        dic['even'].append(i)\n",
    "    else:\n",
    "        dic['odd'].append(i)\n",
    "data=pd.DataFrame(dic)\n",
    "data['addition']=data.apply(lambda x:float(sum(x)),axis=1)\n",
    "print(data)\n",
    "print()\n",
    "\n",
    "#information about data\n",
    "print(data.info())\n",
    "print()\n",
    "\n",
    "print(data.ndim,data.shape)\n",
    "print()\n",
    "\n",
    "# whole column access\n",
    "print(data['addition'])\n",
    "print(type(data['addition'])) #data frame is collection of series\n",
    "print()\n",
    "\n",
    "#update the \"addition\" column that is 2 row and 2 column with \"None\"\n",
    "data.iloc[2,2]=None # or pd.NA\n",
    "print(data['addition'])\n",
    "print(data['addition'].info()) #4 non-null \n",
    "print()\n",
    "\n",
    "# particular row and column access\n",
    "print(data.loc[3:5,'odd':'addition'])\n",
    "print()\n",
    "\n",
    "#drop the NA row and by inplace we get updated value\n",
    "data.dropna(inplace=True)# for column use data.dropna(axis=1,inplace=True)\n",
    "print(data)\n",
    "print()\n",
    "\n",
    "# for drop the column with use name of column \"addition\"\n",
    "data.drop(['addition'],axis=1,inplace=True)\n",
    "print(data)"
   ]
  },
  {
   "cell_type": "code",
   "execution_count": 48,
   "id": "69651d42",
   "metadata": {},
   "outputs": [
    {
     "name": "stdout",
     "output_type": "stream",
     "text": [
      "   even  odd  addition\n",
      "0     2    1       3.0\n",
      "1     4    3       7.0\n",
      "2     6    5      11.0\n",
      "3     8    7      15.0\n",
      "4    10    9      19.0\n"
     ]
    }
   ],
   "source": [
    "# store the data on csv and read it\n",
    "\n",
    "number=10 #int(input(\"enter a number: \"))\n",
    "dic={'even':[],'odd':[]}\n",
    "for i in range(1,number+1):\n",
    "    if i%2==0:\n",
    "        dic['even'].append(i)\n",
    "    else:\n",
    "        dic['odd'].append(i)\n",
    "data=pd.DataFrame(dic)\n",
    "data['addition']=data.apply(lambda x:float(sum(x)),axis=1)\n",
    "# print(data)\n",
    "data.to_csv(\"data_demo.csv\",index=False)\n",
    "data1=pd.read_csv(\"data_demo.csv\")\n",
    "print(data1)\n"
   ]
  },
  {
   "cell_type": "code",
   "execution_count": 55,
   "id": "d783cd4a",
   "metadata": {},
   "outputs": [
    {
     "name": "stdout",
     "output_type": "stream",
     "text": [
      "   even  odd  addition\n",
      "0     2    1         3\n",
      "1     4    3         7\n",
      "2     6    5        11\n",
      "3     8    7        15\n",
      "4    10    9        19\n"
     ]
    }
   ],
   "source": [
    "# store the data in excel formate and read it\n",
    "\n",
    "number=10 #int(input(\"enter a number: \"))\n",
    "dic={'even':[],'odd':[]}\n",
    "for i in range(1,number+1):\n",
    "    if i%2==0:\n",
    "        dic['even'].append(i)\n",
    "    else:\n",
    "        dic['odd'].append(i)\n",
    "data=pd.DataFrame(dic)\n",
    "data['addition']=data.apply(lambda x:float(sum(x)),axis=1)\n",
    "data.to_excel(\"data.xlsx\",sheet_name=\"sample_data\")\n",
    "data2=pd.read_excel(\"data.xlsx\",sheet_name=\"sample_data\",index_col=0) # index_col=0 used for removing extra indexing\n",
    "print(data2)"
   ]
  },
  {
   "cell_type": "code",
   "execution_count": 56,
   "id": "7dbfca49",
   "metadata": {},
   "outputs": [
    {
     "data": {
      "text/plain": [
       "<Axes: >"
      ]
     },
     "execution_count": 56,
     "metadata": {},
     "output_type": "execute_result"
    },
    {
     "data": {
      "image/png": "[encoded data removed]",
      "text/plain": [
       "<Figure size 640x480 with 1 Axes>"
      ]
     },
     "metadata": {},
     "output_type": "display_data"
    }
   ],
   "source": [
    "# box plot of data2 using pandas library\n",
    "\n",
    "number=10 #int(input(\"enter a number: \"))\n",
    "dic={'even':[],'odd':[]}\n",
    "for i in range(1,number+1):\n",
    "    if i%2==0:\n",
    "        dic['even'].append(i)\n",
    "    else:\n",
    "        dic['odd'].append(i)\n",
    "data=pd.DataFrame(dic)\n",
    "data['addition']=data.apply(lambda x:float(sum(x)),axis=1)\n",
    "data.to_excel(\"data.xlsx\",sheet_name=\"sample_data\")\n",
    "data2=pd.read_excel(\"data.xlsx\",sheet_name=\"sample_data\",index_col=0)\n",
    "data2.boxplot()"
   ]
  },
  {
   "cell_type": "code",
   "execution_count": 60,
   "id": "06e87a64",
   "metadata": {},
   "outputs": [
    {
     "data": {
      "text/plain": [
       "array([[<Axes: title={'center': 'even'}>,\n",
       "        <Axes: title={'center': 'odd'}>],\n",
       "       [<Axes: title={'center': 'addition'}>, <Axes: >]], dtype=object)"
      ]
     },
     "execution_count": 60,
     "metadata": {},
     "output_type": "execute_result"
    }
   ],
   "source": [
    "# histogram plot using th pandas library\n",
    "\n",
    "number=10 #int(input(\"enter a number: \"))\n",
    "dic={'even':[],'odd':[]}\n",
    "for i in range(1,number+1):\n",
    "    if i%2==0:\n",
    "        dic['even'].append(i)\n",
    "    else:\n",
    "        dic['odd'].append(i)\n",
    "data=pd.DataFrame(dic)\n",
    "data['addition']=data.apply(lambda x:float(sum(x)),axis=1)\n",
    "data.to_excel(\"data.xlsx\",sheet_name=\"sample_data\")\n",
    "data2=pd.read_excel(\"data.xlsx\",sheet_name=\"sample_data\",index_col=0)\n",
    "data2.hist()"
   ]
  }
 ],
 "metadata": {
  "kernelspec": {
   "display_name": "Python 3 (ipykernel)",
   "language": "python",
   "name": "python3"
  },
  "language_info": {
   "codemirror_mode": {
    "name": "ipython",
    "version": 3
   },
   "file_extension": ".py",
   "mimetype": "text/x-python",
   "name": "python",
   "nbconvert_exporter": "python",
   "pygments_lexer": "ipython3",
   "version": "3.10.9"
  }
 },
 "nbformat": 4,
 "nbformat_minor": 5
}
