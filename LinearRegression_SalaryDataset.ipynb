{
 "cells": [
  {
   "cell_type": "code",
   "execution_count": 1,
   "id": "3d24d9cd",
   "metadata": {},
   "outputs": [],
   "source": [
    "# import all required library or algo\n",
    "\n",
    "import pandas as pd\n",
    "import sklearn\n",
    "from sklearn.linear_model import LinearRegression\n",
    "from sklearn.metrics import mean_squared_error, mean_absolute_error\n",
    "import matplotlib.pyplot as plt"
   ]
  },
  {
   "cell_type": "markdown",
   "id": "4a986acd",
   "metadata": {},
   "source": [
    "#### 1. Data Gathering"
   ]
  },
  {
   "cell_type": "code",
   "execution_count": 2,
   "id": "5bdf53cd",
   "metadata": {},
   "outputs": [
    {
     "name": "stdout",
     "output_type": "stream",
     "text": [
      "    YearsExperience    Salary\n",
      "0               1.2   39344.0\n",
      "1               1.4   46206.0\n",
      "2               1.6   37732.0\n",
      "3               2.1   43526.0\n",
      "4               2.3   39892.0\n",
      "5               3.0   56643.0\n",
      "6               3.1   60151.0\n",
      "7               3.3   54446.0\n",
      "8               3.3   64446.0\n",
      "9               3.8   57190.0\n",
      "10              4.0   63219.0\n",
      "11              4.1   55795.0\n",
      "12              4.1   56958.0\n",
      "13              4.2   57082.0\n",
      "14              4.6   61112.0\n",
      "15              5.0   67939.0\n",
      "16              5.2   66030.0\n",
      "17              5.4   83089.0\n",
      "18              6.0   81364.0\n",
      "19              6.1   93941.0\n",
      "20              6.9   91739.0\n",
      "21              7.2   98274.0\n",
      "22              8.0  101303.0\n",
      "23              8.3  113813.0\n",
      "24              8.8  109432.0\n",
      "25              9.1  105583.0\n",
      "26              9.6  116970.0\n",
      "27              9.7  112636.0\n",
      "28             10.4  122392.0\n",
      "29             10.6  121873.0\n"
     ]
    }
   ],
   "source": [
    "data=pd.read_csv(\"C:/Users/91975/Downloads/archive (6)/Salary_dataset.csv\",index_col=0)\n",
    "print(data) "
   ]
  },
  {
   "cell_type": "code",
   "execution_count": 3,
   "id": "c2cd4f45",
   "metadata": {},
   "outputs": [
    {
     "name": "stdout",
     "output_type": "stream",
     "text": [
      "<class 'pandas.core.frame.DataFrame'>\n",
      "Int64Index: 30 entries, 0 to 29\n",
      "Data columns (total 2 columns):\n",
      " #   Column           Non-Null Count  Dtype  \n",
      "---  ------           --------------  -----  \n",
      " 0   YearsExperience  30 non-null     float64\n",
      " 1   Salary           30 non-null     float64\n",
      "dtypes: float64(2)\n",
      "memory usage: 720.0 bytes\n"
     ]
    }
   ],
   "source": [
    "# detail information about data\n",
    "\n",
    "data.info()"
   ]
  },
  {
   "cell_type": "markdown",
   "id": "e6846192",
   "metadata": {},
   "source": [
    "#### data pre processing"
   ]
  },
  {
   "cell_type": "code",
   "execution_count": 4,
   "id": "bb83f4f3",
   "metadata": {},
   "outputs": [],
   "source": [
    "# (convert the our data into 2D array)\n",
    "X,Y=data[\"YearsExperience\"].to_numpy().reshape(-1,1),data[\"Salary\"].to_numpy().reshape(-1,1)"
   ]
  },
  {
   "cell_type": "code",
   "execution_count": 5,
   "id": "527ce6bf",
   "metadata": {},
   "outputs": [
    {
     "name": "stdout",
     "output_type": "stream",
     "text": [
      "(25, 1) (5, 1)\n"
     ]
    }
   ],
   "source": [
    "x_train=X[:-5]\n",
    "x_test=X[-5:]\n",
    "y_train=Y[:-5]\n",
    "y_test=Y[-5:]\n",
    "print(x_train.shape,x_test.shape)"
   ]
  },
  {
   "cell_type": "markdown",
   "id": "f5176260",
   "metadata": {},
   "source": [
    "#### Choose an algo/model"
   ]
  },
  {
   "cell_type": "code",
   "execution_count": 6,
   "id": "0c32018e",
   "metadata": {},
   "outputs": [],
   "source": [
    "reg = LinearRegression()"
   ]
  },
  {
   "cell_type": "markdown",
   "id": "aab674bf",
   "metadata": {},
   "source": [
    "#### Train our model"
   ]
  },
  {
   "cell_type": "code",
   "execution_count": 7,
   "id": "62a88df3",
   "metadata": {},
   "outputs": [
    {
     "name": "stdout",
     "output_type": "stream",
     "text": [
      "0.9298889340527401\n"
     ]
    }
   ],
   "source": [
    "reg.fit(x_train,y_train)\n",
    "print(reg.score(x_train,y_train))"
   ]
  },
  {
   "cell_type": "markdown",
   "id": "95976620",
   "metadata": {},
   "source": [
    "#### Test our model"
   ]
  },
  {
   "cell_type": "code",
   "execution_count": 8,
   "id": "b65d1fc7",
   "metadata": {},
   "outputs": [
    {
     "name": "stdout",
     "output_type": "stream",
     "text": [
      "[[113773.84320812]\n",
      " [118768.07936621]\n",
      " [119766.92659783]\n",
      " [126758.85721916]\n",
      " [128756.55168239]]\n",
      "\n",
      "[[37861.45360513]]\n"
     ]
    }
   ],
   "source": [
    "predict=reg.predict(x_test)\n",
    "print(predict)\n",
    "print()\n",
    "print(reg.predict([[1.5]]))"
   ]
  },
  {
   "cell_type": "code",
   "execution_count": 9,
   "id": "1d6a384e",
   "metadata": {},
   "outputs": [
    {
     "name": "stdout",
     "output_type": "stream",
     "text": [
      "37525168.349489026\n",
      "5674.051614740977\n"
     ]
    }
   ],
   "source": [
    "# calculating mean_squared_error and mean_absolute_error\n",
    "\n",
    "print(mean_squared_error(y_test,predict))\n",
    "print(mean_absolute_error(y_test,predict))"
   ]
  },
  {
   "cell_type": "code",
   "execution_count": 10,
   "id": "036640d3",
   "metadata": {},
   "outputs": [
    {
     "data": {
      "image/png": "[encoded data removed]",
      "text/plain": [
       "<Figure size 640x480 with 1 Axes>"
      ]
     },
     "metadata": {},
     "output_type": "display_data"
    }
   ],
   "source": [
    "# plotting actual value and predicted value \n",
    "\n",
    "plt.scatter(x_test,y_test,color=\"blue\")\n",
    "plt.plot(x_test,predict,color=\"red\")\n",
    "\n",
    "plt.show()"
   ]
  }
 ],
 "metadata": {
  "kernelspec": {
   "display_name": "Python 3 (ipykernel)",
   "language": "python",
   "name": "python3"
  },
  "language_info": {
   "codemirror_mode": {
    "name": "ipython",
    "version": 3
   },
   "file_extension": ".py",
   "mimetype": "text/x-python",
   "name": "python",
   "nbconvert_exporter": "python",
   "pygments_lexer": "ipython3",
   "version": "3.10.9"
  }
 },
 "nbformat": 4,
 "nbformat_minor": 5
}
